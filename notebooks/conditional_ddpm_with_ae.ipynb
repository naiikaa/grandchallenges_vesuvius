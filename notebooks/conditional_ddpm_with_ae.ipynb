{
 "cells": [
  {
   "cell_type": "code",
   "execution_count": 1,
   "id": "2beb31f8",
   "metadata": {},
   "outputs": [
    {
     "name": "stderr",
     "output_type": "stream",
     "text": [
      "/home/npopkov/vesuvius_gcml/.venv/lib/python3.10/site-packages/tqdm/auto.py:21: TqdmWarning: IProgress not found. Please update jupyter and ipywidgets. See https://ipywidgets.readthedocs.io/en/stable/user_install.html\n",
      "  from .autonotebook import tqdm as notebook_tqdm\n"
     ]
    }
   ],
   "source": [
    "#autoreload \n",
    "%load_ext autoreload\n",
    "%autoreload 2\n",
    "\n",
    "import sys\n",
    "sys.path.append(\"..\")\n",
    "import torch\n",
    "import lightning as lt\n",
    "import yaml\n",
    "from models.CNNAE import AE\n",
    "import matplotlib.pyplot as plt\n",
    "\n",
    "ckpt_path = \"/home/npopkov/vesuvius_gcml/notebooks/encoder_ckpt/\"\n",
    "\n",
    "encoder_path = ckpt_path + \"encoder.pth\"\n",
    "attention_path = ckpt_path + \"attention.pth\"\n",
    "\n",
    "aae = AE()\n",
    "#aae.encoder.load_state_dict(torch.load(encoder_path))\n",
    "#aae.attention.load_state_dict(torch.load(attention_path))\n",
    "\n",
    "encoder = aae.encoder\n",
    "attention = aae.attention\n",
    "\n"
   ]
  },
  {
   "cell_type": "code",
   "execution_count": 2,
   "id": "8126f1e4",
   "metadata": {},
   "outputs": [
    {
     "name": "stdout",
     "output_type": "stream",
     "text": [
      "torch.Size([16, 256])\n"
     ]
    }
   ],
   "source": [
    "test = torch.randn(16,16,16,16)\n",
    "test = torch.nn.ConvTranspose2d(16,1,3,stride=1,padding=1)(test)\n",
    "test = torch.nn.Flatten()(test)\n",
    "print(test.shape)"
   ]
  },
  {
   "cell_type": "code",
   "execution_count": 3,
   "id": "d4a4bc77",
   "metadata": {},
   "outputs": [
    {
     "name": "stdout",
     "output_type": "stream",
     "text": [
      "torch.Size([16, 16, 32, 32]) torch.Size([16, 32]) torch.Size([16, 32])\n"
     ]
    }
   ],
   "source": [
    "a = torch.randn(16,16, 32, 32)\n",
    "b = torch.randn(16, 32)\n",
    "#add all 16 layers of a to b\n",
    "c = torch.sum(torch.sum(a, dim=1),dim = 2) + b\n",
    "print(a.shape, b.shape, c.shape)"
   ]
  },
  {
   "cell_type": "code",
   "execution_count": null,
   "id": "032b4323",
   "metadata": {},
   "outputs": [
    {
     "name": "stdout",
     "output_type": "stream",
     "text": [
      "{'segments': ['20231210121321', '20231106155350', '20231005123336', '20230820203112', '20230620230619', '20230826170124', '20230702185753', '20230522215721', '20230531193658', '20230520175435', '20230903193206', '20230902141231', '20231007101615', '20230929220924', 'recto', 'verso', '20231016151000', '20231012184423', '20231031143850']}\n",
      "Creating InkLabelDataset with 2 segments...\n",
      "An error occurred while initializing the Volume class: URL not found for scroll: None, energy: None, resolution: None, segment: 20231106155350\n",
      "Load the canonical scroll 1 with Volume(type=\"scroll\", scroll_id=1, energy=54, resolution=7.91)\n",
      "If loading another part of the same physical scroll use for instance Volume(type=\"scroll\", scroll_id=\"1b\", energy=54, resolution=7.91)\n",
      "Load a segment (e.g. 20230827161847) with Volume(type=\"segment\", scroll_id=1, energy=54, resolution=7.91, segment_id=20230827161847)\n",
      "Error processing segment 20231106155350: URL not found for scroll: None, energy: None, resolution: None, segment: 20231106155350\n",
      "Found 1 data points for 2 provided segments.\n",
      "Created 4530 samples from ink label with shapes (15872, 12544), (16, 15839, 12489) for segment 20231210121321\n",
      "Created 4530 samples from ink labels.\n"
     ]
    }
   ],
   "source": [
    "from ml.inklabel_dataset import InkLabelDataset\n",
    "segment_ids = yaml.safe_load(open('../configs/segment_ids.yaml', 'r'))\n",
    "print(segment_ids['segment_ids'])\n",
    "segments = [segment_ids['segment_ids']['segments'][0],segment_ids['segment_ids']['segments'][1],segment_ids['segment_ids']['segments'][2]]\n",
    "SAMPLE_SIZE = 16\n",
    "VOLUME_DEPTH = 16\n",
    "dataset = InkLabelDataset(segment_ids=segments,sample_size=SAMPLE_SIZE,volume_depth=VOLUME_DEPTH,upper_bound=.6, lower_bound=0.4)\n",
    "train, test, val = torch.utils.data.random_split(dataset, [0.8, 0.1, 0.1])\n"
   ]
  },
  {
   "cell_type": "code",
   "execution_count": 5,
   "id": "410535cf",
   "metadata": {},
   "outputs": [],
   "source": [
    "train_Loader = torch.utils.data.DataLoader(train, batch_size=64, shuffle=True,num_workers=27)\n",
    "test_Loader = torch.utils.data.DataLoader(test, batch_size=16, shuffle=False,num_workers=27)\n",
    "validation_Loader = torch.utils.data.DataLoader(val, batch_size=16, shuffle=False,num_workers=27)"
   ]
  },
  {
   "cell_type": "code",
   "execution_count": 6,
   "id": "688a0689",
   "metadata": {},
   "outputs": [
    {
     "name": "stderr",
     "output_type": "stream",
     "text": [
      "Using default `ModelCheckpoint`. Consider installing `litmodels` package to enable `LitModelCheckpoint` for automatic upload to the Lightning model registry.\n",
      "GPU available: True (cuda), used: True\n",
      "TPU available: False, using: 0 TPU cores\n",
      "HPU available: False, using: 0 HPUs\n",
      "/home/npopkov/vesuvius_gcml/.venv/lib/python3.10/site-packages/lightning/pytorch/trainer/connectors/logger_connector/logger_connector.py:76: Starting from v1.9.0, `tensorboardX` has been removed as a dependency of the `lightning.pytorch` package, due to potential conflicts with other packages in the ML ecosystem. For this reason, `logger=True` will use `CSVLogger` as the default logger, unless the `tensorboard` or `tensorboardX` packages are found. Please `pip install lightning[extra]` or one of them to enable TensorBoard support by default\n"
     ]
    }
   ],
   "source": [
    "trainer = lt.Trainer(max_epochs=500, accelerator=\"gpu\", devices=1, callbacks=[lt.pytorch.callbacks.early_stopping.EarlyStopping(monitor=\"train_loss\", patience=15, mode=\"min\")])\n"
   ]
  },
  {
   "cell_type": "code",
   "execution_count": null,
   "id": "091c0ea4",
   "metadata": {},
   "outputs": [
    {
     "data": {
      "image/png": "[encoded data removed]",
      "text/plain": [
       "<Figure size 2000x400 with 10 Axes>"
      ]
     },
     "metadata": {},
     "output_type": "display_data"
    },
    {
     "name": "stdout",
     "output_type": "stream",
     "text": [
      "Unique values and their counts:\n",
      "Value: 0, Count: 40\n",
      "Value: 6, Count: 1\n",
      "Value: 9, Count: 1\n",
      "Value: 10, Count: 1\n",
      "Value: 13, Count: 1\n",
      "Value: 15, Count: 1\n",
      "Value: 18, Count: 1\n",
      "Value: 19, Count: 1\n",
      "Value: 20, Count: 2\n",
      "Value: 26, Count: 1\n",
      "Value: 27, Count: 2\n",
      "Value: 30, Count: 2\n",
      "Value: 32, Count: 1\n",
      "Value: 36, Count: 1\n",
      "Value: 37, Count: 1\n",
      "Value: 39, Count: 1\n",
      "Value: 41, Count: 1\n",
      "Value: 43, Count: 1\n",
      "Value: 46, Count: 1\n",
      "Value: 48, Count: 2\n",
      "Value: 50, Count: 2\n",
      "Value: 51, Count: 1\n",
      "Value: 57, Count: 2\n",
      "Value: 59, Count: 1\n",
      "Value: 61, Count: 1\n",
      "Value: 62, Count: 1\n",
      "Value: 63, Count: 1\n",
      "Value: 65, Count: 2\n",
      "Value: 68, Count: 2\n",
      "Value: 69, Count: 1\n",
      "Value: 73, Count: 1\n",
      "Value: 74, Count: 2\n",
      "Value: 75, Count: 1\n",
      "Value: 77, Count: 3\n",
      "Value: 79, Count: 1\n",
      "Value: 80, Count: 2\n",
      "Value: 82, Count: 1\n",
      "Value: 84, Count: 1\n",
      "Value: 85, Count: 2\n",
      "Value: 86, Count: 1\n",
      "Value: 90, Count: 1\n",
      "Value: 91, Count: 2\n",
      "Value: 92, Count: 1\n",
      "Value: 95, Count: 2\n",
      "Value: 98, Count: 1\n",
      "Value: 100, Count: 2\n",
      "Value: 104, Count: 3\n",
      "Value: 107, Count: 2\n",
      "Value: 108, Count: 1\n",
      "Value: 109, Count: 1\n",
      "Value: 110, Count: 1\n",
      "Value: 111, Count: 1\n",
      "Value: 112, Count: 1\n",
      "Value: 113, Count: 1\n",
      "Value: 114, Count: 2\n",
      "Value: 117, Count: 2\n",
      "Value: 118, Count: 1\n",
      "Value: 123, Count: 1\n",
      "Value: 124, Count: 2\n",
      "Value: 125, Count: 2\n",
      "Value: 126, Count: 1\n",
      "Value: 128, Count: 1\n",
      "Value: 129, Count: 1\n",
      "Value: 130, Count: 1\n",
      "Value: 132, Count: 1\n",
      "Value: 133, Count: 2\n",
      "Value: 135, Count: 2\n",
      "Value: 136, Count: 1\n",
      "Value: 137, Count: 3\n",
      "Value: 138, Count: 2\n",
      "Value: 140, Count: 2\n",
      "Value: 142, Count: 4\n",
      "Value: 143, Count: 1\n",
      "Value: 144, Count: 1\n",
      "Value: 145, Count: 2\n",
      "Value: 146, Count: 2\n",
      "Value: 148, Count: 1\n",
      "Value: 150, Count: 1\n",
      "Value: 151, Count: 3\n",
      "Value: 158, Count: 1\n",
      "Value: 159, Count: 1\n",
      "Value: 162, Count: 2\n",
      "Value: 169, Count: 1\n",
      "Value: 170, Count: 1\n",
      "Value: 171, Count: 1\n",
      "Value: 172, Count: 2\n",
      "Value: 173, Count: 3\n",
      "Value: 175, Count: 1\n",
      "Value: 177, Count: 1\n",
      "Value: 178, Count: 1\n",
      "Value: 181, Count: 1\n",
      "Value: 183, Count: 2\n",
      "Value: 184, Count: 1\n",
      "Value: 186, Count: 1\n",
      "Value: 187, Count: 1\n",
      "Value: 190, Count: 2\n",
      "Value: 195, Count: 3\n",
      "Value: 198, Count: 1\n",
      "Value: 201, Count: 1\n",
      "Value: 203, Count: 1\n",
      "Value: 206, Count: 1\n",
      "Value: 208, Count: 1\n",
      "Value: 209, Count: 2\n",
      "Value: 210, Count: 3\n",
      "Value: 211, Count: 2\n",
      "Value: 212, Count: 1\n",
      "Value: 215, Count: 1\n",
      "Value: 216, Count: 1\n",
      "Value: 219, Count: 2\n",
      "Value: 221, Count: 1\n",
      "Value: 224, Count: 1\n",
      "Value: 227, Count: 1\n",
      "Value: 228, Count: 2\n",
      "Value: 231, Count: 1\n",
      "Value: 234, Count: 2\n",
      "Value: 235, Count: 1\n",
      "Value: 241, Count: 1\n",
      "Value: 244, Count: 1\n",
      "Value: 249, Count: 2\n",
      "Value: 252, Count: 1\n",
      "Value: 255, Count: 45\n"
     ]
    }
   ],
   "source": [
    "from models.condDDPM import Diffusion\n",
    "\n",
    "ddpm = Diffusion(\n",
    "    noise_steps=1000,\n",
    "    beta_start=1e-4,\n",
    "    beta_end=0.03,\n",
    "    img_size=SAMPLE_SIZE,\n",
    "    volume_depth=VOLUME_DEPTH,\n",
    "    c_in=1,\n",
    "    c_out=1,\n",
    "    encoder=None,\n",
    "    attention=None\n",
    ")\n",
    "\n",
    "ddpm.plot_test_noising(x=next(iter(train_Loader))['ink_label'][0].float().cuda())"
   ]
  },
  {
   "cell_type": "code",
   "execution_count": 8,
   "id": "c799b5b9",
   "metadata": {},
   "outputs": [
    {
     "data": {
      "image/png": "[encoded data removed]",
      "text/plain": [
       "<Figure size 1000x1000 with 2 Axes>"
      ]
     },
     "metadata": {},
     "output_type": "display_data"
    }
   ],
   "source": [
    "#plot a sample and in each pixel the value of the pixel\n",
    "x_t = next(iter(train_Loader))['ink_label'].float().cuda()\n",
    "plt.figure(figsize=(10, 10))\n",
    "plt.imshow(x_t[0].squeeze().cpu().numpy(), cmap='gray')\n",
    "plt.colorbar()\n",
    "plt.title('Sample Ink Label')\n",
    "plt.xticks([])\n",
    "plt.yticks([])\n",
    "plt.grid(False)\n",
    "plt.axis('off')\n",
    "plt.show()"
   ]
  },
  {
   "cell_type": "code",
   "execution_count": 9,
   "id": "d1392335",
   "metadata": {},
   "outputs": [
    {
     "name": "stderr",
     "output_type": "stream",
     "text": [
      "You are using a CUDA device ('NVIDIA GeForce RTX 4090') that has Tensor Cores. To properly utilize them, you should set `torch.set_float32_matmul_precision('medium' | 'high')` which will trade-off precision for performance. For more details, read https://pytorch.org/docs/stable/generated/torch.set_float32_matmul_precision.html#torch.set_float32_matmul_precision\n",
      "LOCAL_RANK: 0 - CUDA_VISIBLE_DEVICES: [0]\n",
      "\n",
      "  | Name  | Type             | Params | Mode \n",
      "---------------------------------------------------\n",
      "0 | model | UNet_conditional | 16.0 M | train\n",
      "---------------------------------------------------\n",
      "16.0 M    Trainable params\n",
      "0         Non-trainable params\n",
      "16.0 M    Total params\n",
      "63.824    Total estimated model params size (MB)\n",
      "202       Modules in train mode\n",
      "0         Modules in eval mode\n"
     ]
    },
    {
     "name": "stdout",
     "output_type": "stream",
     "text": [
      "Sanity Checking: |          | 0/? [00:00<?, ?it/s]"
     ]
    },
    {
     "name": "stdout",
     "output_type": "stream",
     "text": [
      "                                                                           \r"
     ]
    },
    {
     "name": "stderr",
     "output_type": "stream",
     "text": [
      "/home/npopkov/vesuvius_gcml/.venv/lib/python3.10/site-packages/lightning/pytorch/utilities/data.py:79: Trying to infer the `batch_size` from an ambiguous collection. The batch size we found is 16. To avoid any miscalculations, use `self.log(..., batch_size=batch_size)`.\n"
     ]
    },
    {
     "name": "stdout",
     "output_type": "stream",
     "text": [
      "Epoch 0: 100%|██████████| 57/57 [00:02<00:00, 24.54it/s, v_num=65]"
     ]
    },
    {
     "name": "stderr",
     "output_type": "stream",
     "text": [
      "/home/npopkov/vesuvius_gcml/.venv/lib/python3.10/site-packages/lightning/pytorch/utilities/data.py:79: Trying to infer the `batch_size` from an ambiguous collection. The batch size we found is 5. To avoid any miscalculations, use `self.log(..., batch_size=batch_size)`.\n"
     ]
    },
    {
     "name": "stdout",
     "output_type": "stream",
     "text": [
      "Epoch 39: 100%|██████████| 57/57 [00:03<00:00, 14.70it/s, v_num=65]\n"
     ]
    }
   ],
   "source": [
    "trainer.fit(ddpm, train_Loader, validation_Loader)"
   ]
  },
  {
   "cell_type": "code",
   "execution_count": 10,
   "id": "f7f16a72",
   "metadata": {},
   "outputs": [],
   "source": [
    "ddpm.save(model_cpkt_path=\"/home/npopkov/vesuvius_gcml/notebooks/ddpm_ckpt\", model_ckpt=\"ckpt.pt\")"
   ]
  },
  {
   "cell_type": "code",
   "execution_count": 11,
   "id": "153855a7",
   "metadata": {},
   "outputs": [],
   "source": [
    "ddpm.load(model_cpkt_path=\"/home/npopkov/vesuvius_gcml/notebooks/ddpm_ckpt\", model_ckpt=\"ckpt.pt\")"
   ]
  },
  {
   "cell_type": "code",
   "execution_count": 12,
   "id": "bf6ce1a7",
   "metadata": {},
   "outputs": [
    {
     "name": "stderr",
     "output_type": "stream",
     "text": [
      "                                                  \r"
     ]
    },
    {
     "name": "stdout",
     "output_type": "stream",
     "text": [
      "Output shape after training: torch.Size([8, 1, 16, 16])\n"
     ]
    },
    {
     "data": {
      "image/png": "[encoded data removed]",
      "text/plain": [
       "<Figure size 1600x400 with 24 Axes>"
      ]
     },
     "metadata": {},
     "output_type": "display_data"
    }
   ],
   "source": [
    "test_sample = next(iter(test_Loader))\n",
    "idx = 3\n",
    "#stack the same sample 8 times\n",
    "input_sample = test_sample['scroll_segment'][idx].repeat(8, 1, 1, 1).float().cuda()\n",
    "test_results = ddpm.__test_after_training__(input_sample)\n",
    "\n",
    "plt.figure(figsize=(16, 4))\n",
    "for i in range(8):\n",
    "    plt.subplot(3, 8, i + 1)\n",
    "    plt.imshow(test_sample['ink_label'][idx].cpu().numpy(), cmap='gray',vmin=0,vmax=255)\n",
    "    plt.axis('off')\n",
    "    plt.title(\"true label\")\n",
    "\n",
    "    plt.subplot(3, 8, i + 9)\n",
    "    plt.imshow(test_results[i][0].cpu().numpy(), cmap='gray',vmin=0,vmax=255)\n",
    "    plt.axis('off')\n",
    "    plt.title(\"pred by ddpm\")\n",
    "    \n",
    "    plt.subplot(3,8,i+17)\n",
    "    plt.imshow(test_sample['ink_label'][idx].cpu().numpy()-test_results[i][0].cpu().numpy(),cmap='gray',vmin=0,vmax=255)\n",
    "    plt.axis('off')\n",
    "    plt.title('difference')\n",
    "\n",
    "plt.show()"
   ]
  },
  {
   "cell_type": "code",
   "execution_count": 13,
   "id": "c50124dd",
   "metadata": {},
   "outputs": [
    {
     "name": "stdout",
     "output_type": "stream",
     "text": [
      "0.7578125\n"
     ]
    },
    {
     "name": "stderr",
     "output_type": "stream",
     "text": [
      "100%|██████████| 8/8 [00:00<00:00, 116508.44it/s]"
     ]
    },
    {
     "name": "stdout",
     "output_type": "stream",
     "text": [
      "0.76953125\n"
     ]
    },
    {
     "name": "stderr",
     "output_type": "stream",
     "text": [
      "\n"
     ]
    }
   ],
   "source": [
    "from ml import matching_pixels, matching_pixels_subset_max\n",
    "\n",
    "res = matching_pixels(test_sample['ink_label'].cpu().numpy()[0],test_results.squeeze().cpu().numpy()[0])\n",
    "print(res / (SAMPLE_SIZE**2))\n",
    "\n",
    "res = matching_pixels_subset_max(test_results.cpu().numpy(),test_sample['ink_label'].squeeze().cpu().numpy()[0])\n",
    "print(res / (SAMPLE_SIZE**2))"
   ]
  },
  {
   "cell_type": "code",
   "execution_count": 14,
   "id": "69cdb661",
   "metadata": {},
   "outputs": [
    {
     "data": {
      "text/plain": [
       "np.int64(0)"
      ]
     },
     "execution_count": 14,
     "metadata": {},
     "output_type": "execute_result"
    }
   ],
   "source": [
    "res = matching_pixels(test_sample['ink_label'].cpu().numpy()[0],test_sample['ink_label'].cpu().numpy()[0])\n",
    "res"
   ]
  },
  {
   "cell_type": "markdown",
   "id": "3c408595",
   "metadata": {},
   "source": [
    "# 29.07. \n",
    "- vielleicht erstmal 60/40 testen $\\checkmark$\n",
    "- nochmal nach fertigem conditional ddpm scouten\n",
    "- nochmal den AE besser hinbekommen oder sogar einen VAE probieren\n",
    "- github.com/lucidrains anschauen\n",
    "- classifier free guidance\n",
    "- optuna\n",
    "- 16 channel auf 1 channel runter für conv2d  $\\checkmark$"
   ]
  },
  {
   "cell_type": "code",
   "execution_count": null,
   "id": "72dff5af",
   "metadata": {},
   "outputs": [],
   "source": []
  }
 ],
 "metadata": {
  "kernelspec": {
   "display_name": "vesuvius-gcml (3.10.18)",
   "language": "python",
   "name": "python3"
  },
  "language_info": {
   "codemirror_mode": {
    "name": "ipython",
    "version": 3
   },
   "file_extension": ".py",
   "mimetype": "text/x-python",
   "name": "python",
   "nbconvert_exporter": "python",
   "pygments_lexer": "ipython3",
   "version": "3.10.18"
  }
 },
 "nbformat": 4,
 "nbformat_minor": 5
}
