{
 "cells": [
  {
   "cell_type": "code",
   "execution_count": 1,
   "id": "f6bd43cb",
   "metadata": {},
   "outputs": [
    {
     "name": "stdout",
     "output_type": "stream",
     "text": [
      "{'segments': ['20231210121321', '20231106155350', '20231005123336', '20230820203112', '20230620230619', '20230826170124', '20230702185753', '20230522215721', '20230531193658', '20230520175435', '20230903193206', '20230902141231', '20231007101615', '20230929220924', 'recto', 'verso', '20231016151000', '20231012184423', '20231031143850']}\n"
     ]
    },
    {
     "name": "stderr",
     "output_type": "stream",
     "text": [
      "/home/npopkov/vesuvius_gcml/.venv/lib/python3.10/site-packages/tqdm/auto.py:21: TqdmWarning: IProgress not found. Please update jupyter and ipywidgets. See https://ipywidgets.readthedocs.io/en/stable/user_install.html\n",
      "  from .autonotebook import tqdm as notebook_tqdm\n"
     ]
    }
   ],
   "source": [
    "import sys \n",
    "sys.path.append('..')\n",
    "from ml.inklabel_dataset import InkLabelDataset\n",
    "import yaml\n",
    "import lightning as pl\n",
    "from denoising_diffusion_pytorch import Unet, GaussianDiffusion\n",
    "import torch\n",
    "segment_ids = yaml.safe_load(open('../configs/segment_ids.yaml', 'r'))\n",
    "print(segment_ids['segment_ids'])\n",
    "\n",
    "SAMPLE_SIZE = 1024"
   ]
  },
  {
   "cell_type": "code",
   "execution_count": 2,
   "id": "838d8ec9",
   "metadata": {},
   "outputs": [
    {
     "name": "stdout",
     "output_type": "stream",
     "text": [
      "Creating InkLabelDataset with 19 segments...\n",
      "Error processing segment verso: invalid literal for int() with base 10: 'verso'Error processing segment recto: invalid literal for int() with base 10: 'recto'\n",
      "\n",
      "An error occurred while initializing the Volume class: URL not found for scroll: None, energy: None, resolution: None, segment: 20231012184423An error occurred while initializing the Volume class: URL not found for scroll: None, energy: None, resolution: None, segment: 20231031143850\n",
      "\n",
      "Load the canonical scroll 1 with Volume(type=\"scroll\", scroll_id=1, energy=54, resolution=7.91)Load the canonical scroll 1 with Volume(type=\"scroll\", scroll_id=1, energy=54, resolution=7.91)\n",
      "\n",
      "If loading another part of the same physical scroll use for instance Volume(type=\"scroll\", scroll_id=\"1b\", energy=54, resolution=7.91)If loading another part of the same physical scroll use for instance Volume(type=\"scroll\", scroll_id=\"1b\", energy=54, resolution=7.91)\n",
      "\n",
      "Load a segment (e.g. 20230827161847) with Volume(type=\"segment\", scroll_id=1, energy=54, resolution=7.91, segment_id=20230827161847)Load a segment (e.g. 20230827161847) with Volume(type=\"segment\", scroll_id=1, energy=54, resolution=7.91, segment_id=20230827161847)\n",
      "\n",
      "Error processing segment 20231012184423: URL not found for scroll: None, energy: None, resolution: None, segment: 20231012184423Error processing segment 20231031143850: URL not found for scroll: None, energy: None, resolution: None, segment: 20231031143850\n",
      "\n",
      "An error occurred while initializing the Volume class: URL not found for scroll: None, energy: None, resolution: None, segment: 20230929220924\n",
      "Load the canonical scroll 1 with Volume(type=\"scroll\", scroll_id=1, energy=54, resolution=7.91)\n",
      "If loading another part of the same physical scroll use for instance Volume(type=\"scroll\", scroll_id=\"1b\", energy=54, resolution=7.91)\n",
      "Load a segment (e.g. 20230827161847) with Volume(type=\"segment\", scroll_id=1, energy=54, resolution=7.91, segment_id=20230827161847)\n",
      "Error processing segment 20230929220924: URL not found for scroll: None, energy: None, resolution: None, segment: 20230929220924\n",
      "An error occurred while initializing the Volume class: URL not found for scroll: None, energy: None, resolution: None, segment: 20231007101615\n",
      "Load the canonical scroll 1 with Volume(type=\"scroll\", scroll_id=1, energy=54, resolution=7.91)\n",
      "If loading another part of the same physical scroll use for instance Volume(type=\"scroll\", scroll_id=\"1b\", energy=54, resolution=7.91)\n",
      "An error occurred while initializing the Volume class: URL not found for scroll: None, energy: None, resolution: None, segment: 20231106155350Load a segment (e.g. 20230827161847) with Volume(type=\"segment\", scroll_id=1, energy=54, resolution=7.91, segment_id=20230827161847)\n",
      "\n",
      "Error processing segment 20231007101615: URL not found for scroll: None, energy: None, resolution: None, segment: 20231007101615Load the canonical scroll 1 with Volume(type=\"scroll\", scroll_id=1, energy=54, resolution=7.91)\n",
      "\n",
      "If loading another part of the same physical scroll use for instance Volume(type=\"scroll\", scroll_id=\"1b\", energy=54, resolution=7.91)\n",
      "An error occurred while initializing the Volume class: URL not found for scroll: None, energy: None, resolution: None, segment: 20231016151000Load a segment (e.g. 20230827161847) with Volume(type=\"segment\", scroll_id=1, energy=54, resolution=7.91, segment_id=20230827161847)\n",
      "\n",
      "Error processing segment 20231106155350: URL not found for scroll: None, energy: None, resolution: None, segment: 20231106155350Load the canonical scroll 1 with Volume(type=\"scroll\", scroll_id=1, energy=54, resolution=7.91)\n",
      "\n",
      "If loading another part of the same physical scroll use for instance Volume(type=\"scroll\", scroll_id=\"1b\", energy=54, resolution=7.91)\n",
      "Load a segment (e.g. 20230827161847) with Volume(type=\"segment\", scroll_id=1, energy=54, resolution=7.91, segment_id=20230827161847)\n",
      "Error processing segment 20231016151000: URL not found for scroll: None, energy: None, resolution: None, segment: 20231016151000\n",
      "Found 11 ink labels for 19 provided segments.\n",
      "Creating samples from ink labels...\n",
      "Created 106 samples from ink label with shape (15872, 12544)\n",
      "Created 151 samples from ink label with shape (11008, 29952)\n",
      "Created 8 samples from ink label with shape (7424, 2816)\n",
      "Created 12 samples from ink label with shape (6656, 5632)\n",
      "Created 12 samples from ink label with shape (5376, 3840)\n",
      "Created 113 samples from ink label with shape (13568, 17408)\n",
      "Created 13 samples from ink label with shape (5632, 4608)\n",
      "Created 8 samples from ink label with shape (2816, 5888)\n",
      "Created 11 samples from ink label with shape (3072, 7936)\n",
      "Created 21 samples from ink label with shape (10496, 4096)\n",
      "Created 10 samples from ink label with shape (4864, 4096)\n"
     ]
    },
    {
     "name": "stderr",
     "output_type": "stream",
     "text": [
      "/home/npopkov/vesuvius_gcml/notebooks/../ml/inklabel_dataset.py:22: UserWarning: Creating a tensor from a list of numpy.ndarrays is extremely slow. Please consider converting the list to a single numpy.ndarray with numpy.array() before converting to a tensor. (Triggered internally at /pytorch/torch/csrc/utils/tensor_new.cpp:254.)\n",
      "  self.samples = [torch.tensor(sample, dtype=torch.float32) for sample in self.samples]\n"
     ]
    },
    {
     "name": "stdout",
     "output_type": "stream",
     "text": [
      "Created 3\n",
      "Created 465 samples from ink labels.\n"
     ]
    }
   ],
   "source": [
    "ink_label_dataset = InkLabelDataset(segment_ids['segment_ids']['segments'],SAMPLE_SIZE)\n",
    "ink_label_dataloader = torch.utils.data.DataLoader(ink_label_dataset, batch_size=16, shuffle=True, num_workers=25)"
   ]
  },
  {
   "cell_type": "code",
   "execution_count": 11,
   "id": "9863d3b3",
   "metadata": {},
   "outputs": [
    {
     "name": "stderr",
     "output_type": "stream",
     "text": [
      "Using default `ModelCheckpoint`. Consider installing `litmodels` package to enable `LitModelCheckpoint` for automatic upload to the Lightning model registry.\n",
      "GPU available: True (cuda), used: True\n",
      "TPU available: False, using: 0 TPU cores\n",
      "HPU available: False, using: 0 HPUs\n"
     ]
    }
   ],
   "source": [
    "model = Unet(\n",
    "    dim = 64,\n",
    "    channels= 1,\n",
    "    dim_mults = (1, 2, 4,8),\n",
    "    flash_attn = False\n",
    ")\n",
    "\n",
    "diffusion = GaussianDiffusion(\n",
    "    model,\n",
    "    image_size = 128,\n",
    "    timesteps = 1000  \n",
    ")\n",
    "class LightningWrapper(pl.LightningModule):\n",
    "    def __init__(self, diffusion):\n",
    "        super().__init__()\n",
    "        self.diffusion = diffusion\n",
    "\n",
    "    def forward(self, x):\n",
    "        if len(x.shape) == 3:\n",
    "            x = x.unsqueeze(1)\n",
    "        \n",
    "        return self.diffusion(x)\n",
    "\n",
    "    def training_step(self, batch, batch_idx):\n",
    "        x = batch\n",
    "        # downsample batch to bx128x128\n",
    "        x = torch.nn.functional.interpolate(x.unsqueeze(1), size=(128, 128), mode='bilinear', align_corners=False)\n",
    "        # normalize to [0, 1]\n",
    "        x = (x - x.min()) / (x.max() - x.min())\n",
    "        pred = self.forward(x)\n",
    "        print(f\"Batch shape: {x.shape}, Pred shape: {pred.shape}\")\n",
    "        loss = torch.nn.functional.mse_loss(pred, x)\n",
    "        self.log('train_loss', loss)\n",
    "        return loss\n",
    "    \n",
    "    def configure_optimizers(self):\n",
    "        optimizer = torch.optim.AdamW(self.diffusion.parameters(), lr=3e-4)\n",
    "        return optimizer\n",
    "    \n",
    "lightning_model = LightningWrapper(diffusion)\n",
    "trainer = pl.Trainer(max_epochs=1000, accelerator=\"gpu\", devices=1, callbacks=[pl.pytorch.callbacks.early_stopping.EarlyStopping(monitor=\"train_loss\", patience=15, mode=\"min\")])"
   ]
  },
  {
   "cell_type": "code",
   "execution_count": 12,
   "id": "267f0c6c",
   "metadata": {},
   "outputs": [
    {
     "name": "stdout",
     "output_type": "stream",
     "text": [
      "Batch shape: torch.Size([16, 1, 128, 128]), Pred shape: torch.Size([])\n"
     ]
    },
    {
     "name": "stderr",
     "output_type": "stream",
     "text": [
      "/tmp/ipykernel_229951/513937011.py:32: UserWarning: Using a target size (torch.Size([16, 1, 128, 128])) that is different to the input size (torch.Size([])). This will likely lead to incorrect results due to broadcasting. Please ensure they have the same size.\n",
      "  loss = torch.nn.functional.mse_loss(pred, x)\n",
      "/home/npopkov/vesuvius_gcml/.venv/lib/python3.10/site-packages/lightning/pytorch/core/module.py:441: You are trying to `self.log()` but the `self.trainer` reference is not registered on the model yet. This is most likely because the model hasn't been passed to the `Trainer`\n"
     ]
    },
    {
     "data": {
      "text/plain": [
       "tensor(0.2147, grad_fn=<MseLossBackward0>)"
      ]
     },
     "execution_count": 12,
     "metadata": {},
     "output_type": "execute_result"
    }
   ],
   "source": [
    "lightning_model.training_step(next(iter(ink_label_dataloader)),1)\n",
    "# warm up the dataloader"
   ]
  },
  {
   "cell_type": "code",
   "execution_count": null,
   "id": "0b909c85",
   "metadata": {},
   "outputs": [],
   "source": [
    "trainer.fit(lightning_model, ink_label_dataloader)\n",
    "torch.save(lightning_model.state_dict(), 'ink_label_diffusion.pth')\n",
    "print(\"Training complete. Model saved as 'ink_label_diffusion.pth'.\")"
   ]
  },
  {
   "cell_type": "code",
   "execution_count": null,
   "id": "3ae2cdce",
   "metadata": {},
   "outputs": [],
   "source": [
    "\n"
   ]
  }
 ],
 "metadata": {
  "kernelspec": {
   "display_name": "vesuvius (3.10.12)",
   "language": "python",
   "name": "python3"
  },
  "language_info": {
   "codemirror_mode": {
    "name": "ipython",
    "version": 3
   },
   "file_extension": ".py",
   "mimetype": "text/x-python",
   "name": "python",
   "nbconvert_exporter": "python",
   "pygments_lexer": "ipython3",
   "version": "3.10.12"
  }
 },
 "nbformat": 4,
 "nbformat_minor": 5
}
