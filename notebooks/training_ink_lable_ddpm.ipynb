{
 "cells": [
  {
   "cell_type": "code",
   "execution_count": null,
   "id": "f6bd43cb",
   "metadata": {},
   "outputs": [
    {
     "ename": "",
     "evalue": "",
     "output_type": "error",
     "traceback": [
      "\u001b[1;31mRunning cells with 'ies_env (Python 3.12.4)' requires the ipykernel package.\n",
      "\u001b[1;31m<a href='command:jupyter.createPythonEnvAndSelectController'>Create a Python Environment</a> with the required packages."
     ]
    }
   ],
   "source": [
    "import sys \n",
    "sys.path.append('..')\n",
    "from ml.inklabel_dataset import InkLabelDataset\n",
    "import yaml\n",
    "import lightning as pl\n",
    "from denoising_diffusion_pytorch import Unet, GaussianDiffusion\n",
    "import torch\n",
    "segment_ids = yaml.safe_load(open('../configs/segment_ids.yaml', 'r'))\n",
    "print(segment_ids['segment_ids'])\n",
    "\n",
    "SAMPLE_SIZE = 512"
   ]
  },
  {
   "cell_type": "code",
   "execution_count": null,
   "id": "838d8ec9",
   "metadata": {},
   "outputs": [],
   "source": [
    "ink_label_dataset = InkLabelDataset(segment_ids['segment_ids']['segments'],SAMPLE_SIZE)\n",
    "ink_label_dataloader = torch.utils.data.DataLoader(ink_label_dataset, batch_size=16, shuffle=True, num_workers=25)"
   ]
  },
  {
   "cell_type": "code",
   "execution_count": null,
   "id": "9863d3b3",
   "metadata": {},
   "outputs": [],
   "source": [
    "model = Unet(\n",
    "    dim = 32,\n",
    "    channels= 1,\n",
    "    dim_mults = (1, 2, 4),\n",
    "    flash_attn = False\n",
    ")\n",
    "\n",
    "diffusion = GaussianDiffusion(\n",
    "    model,\n",
    "    image_size = 128,\n",
    "    \n",
    "    timesteps = 1000  \n",
    ")\n",
    "\n",
    "class LightningWrapper(pl.LightningModule):\n",
    "    def __init__(self, diffusion):\n",
    "        super().__init__()\n",
    "        self.diffusion = diffusion\n",
    "\n",
    "    def forward(self, x):\n",
    "        if len(x.shape) == 3:\n",
    "            x = x.unsqueeze(1)\n",
    "        \n",
    "        return self.diffusion(x)\n",
    "\n",
    "    def training_step(self, batch, batch_idx):\n",
    "        x = batch\n",
    "        pred = self(x)\n",
    "        loss = torch.nn.functional.mse_loss(pred, x)\n",
    "        self.log('train_loss', loss)\n",
    "        return loss\n",
    "    \n",
    "    def configure_optimizers(self):\n",
    "        optimizer = torch.optim.AdamW(self.diffusion.parameters(), lr=3e-4)\n",
    "        return optimizer\n",
    "    \n",
    "lightning_model = LightningWrapper(diffusion)\n",
    "trainer = pl.Trainer(max_epochs=1000, accelerator=\"gpu\", devices=1, callbacks=[pl.pytorch.callbacks.early_stopping.EarlyStopping(monitor=\"train_loss\", patience=15, mode=\"min\")])"
   ]
  },
  {
   "cell_type": "code",
   "execution_count": null,
   "id": "0b909c85",
   "metadata": {},
   "outputs": [],
   "source": [
    "trainer.fit(lightning_model, ink_label_dataloader)\n",
    "torch.save(lightning_model.state_dict(), 'ink_label_diffusion.pth')\n",
    "print(\"Training complete. Model saved as 'ink_label_diffusion.pth'.\")"
   ]
  },
  {
   "cell_type": "code",
   "execution_count": null,
   "id": "3ae2cdce",
   "metadata": {},
   "outputs": [],
   "source": [
    "\n"
   ]
  }
 ],
 "metadata": {
  "kernelspec": {
   "display_name": "ies_env",
   "language": "python",
   "name": "python3"
  },
  "language_info": {
   "codemirror_mode": {
    "name": "ipython",
    "version": 3
   },
   "file_extension": ".py",
   "mimetype": "text/x-python",
   "name": "python",
   "nbconvert_exporter": "python",
   "pygments_lexer": "ipython3",
   "version": "3.12.4"
  }
 },
 "nbformat": 4,
 "nbformat_minor": 5
}
